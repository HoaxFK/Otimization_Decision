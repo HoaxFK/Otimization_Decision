{
 "cells": [
  {
   "cell_type": "code",
   "execution_count": 11,
   "id": "4b0424a2-980a-489e-a6a5-6d02c3d422ed",
   "metadata": {},
   "outputs": [
    {
     "name": "stdout",
     "output_type": "stream",
     "text": [
      "Updated Dataset:\n",
      "[[ 800 2000    0]\n",
      " [   1    7    1]\n",
      " [   1   10    1]\n",
      " ...\n",
      " [  56  469    1]\n",
      " [  56  608    1]\n",
      " [  56  613    1]]\n",
      "Data saved to ../data/raw/g14.txt2000.txt\n"
     ]
    }
   ],
   "source": [
    "import numpy as np\n",
    "\n",
    "## DATA IMPORT -------------------------------------------------------------------------------------------------------------------\n",
    "data_dir = '../data/raw/'\n",
    "filename = 'g14.txt'\n",
    "import_dir = data_dir + filename\n",
    "\n",
    "# Load the first row to get the number of points and edges\n",
    "header = np.loadtxt(import_dir, max_rows=1, dtype=int)\n",
    "\n",
    "# Extract the number of points and edges from the header\n",
    "npoints = header[0]\n",
    "nedges = header[1]\n",
    "\n",
    "# Load the data regarding points connected with edges and their weights (skip the first row)\n",
    "data_import = np.loadtxt(import_dir, usecols=(0, 1, 2), dtype=int, skiprows=1)\n",
    "\n",
    "# Extract edges data\n",
    "edges = data_import  # This will contain all edges and their weights\n",
    "\n",
    "# Define the number of edges you want to keep\n",
    "desired_nedges = 2000  # Change this to your desired number of edges\n",
    "\n",
    "# Reduce the edges to the desired number\n",
    "if desired_nedges < len(edges):\n",
    "    reduced_edges = edges[:desired_nedges]\n",
    "else:\n",
    "    reduced_edges = edges  # Keep all edges if desired_nedges is greater\n",
    "\n",
    "# Update the number of edges\n",
    "new_nedges = reduced_edges.shape[0]\n",
    "\n",
    "# Update the number of points\n",
    "new_npoints = int(max(reduced_edges[:, 0].max(), reduced_edges[:, 1].max()))\n",
    "\n",
    "# Create the updated dataset\n",
    "# The first row should contain the number of points and edges, but we need to keep the structure\n",
    "# of the subsequent rows. We can create a new array with the same number of columns as reduced_edges.\n",
    "# Here, we will create a new header row with dummy values for the points and weights.\n",
    "header_row = np.array([[new_npoints, new_nedges, 0]])  # Dummy weight for the header\n",
    "\n",
    "# Combine the header with the reduced edges\n",
    "updated_data = np.vstack((header_row, reduced_edges))\n",
    "\n",
    "# Define the output file path\n",
    "output_file = f\"{import_dir}{desired_nedges}.txt\"  # File name with desired_nedges\n",
    "\n",
    "# Save the updated dataset to a file\n",
    "np.savetxt(output_file, updated_data, fmt='%d', delimiter=' ', comments='')\n",
    "\n",
    "# Print the updated dataset\n",
    "print(\"Updated Dataset:\")\n",
    "print(updated_data)\n",
    "print(f\"Data saved to {output_file}\")"
   ]
  },
  {
   "cell_type": "code",
   "execution_count": null,
   "id": "aa8ae708-9820-4f48-90ed-837604010a06",
   "metadata": {},
   "outputs": [],
   "source": []
  }
 ],
 "metadata": {
  "kernelspec": {
   "display_name": "Python 3 (ipykernel)",
   "language": "python",
   "name": "python3"
  },
  "language_info": {
   "codemirror_mode": {
    "name": "ipython",
    "version": 3
   },
   "file_extension": ".py",
   "mimetype": "text/x-python",
   "name": "python",
   "nbconvert_exporter": "python",
   "pygments_lexer": "ipython3",
   "version": "3.10.15"
  }
 },
 "nbformat": 4,
 "nbformat_minor": 5
}
