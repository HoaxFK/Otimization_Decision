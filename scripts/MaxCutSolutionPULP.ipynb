{
 "cells": [
  {
   "cell_type": "code",
   "execution_count": 8,
   "id": "d418f5ee-3038-4834-922d-e0a25cedaf8b",
   "metadata": {},
   "outputs": [
    {
     "name": "stdout",
     "output_type": "stream",
     "text": [
      "Objective Function Value: ['Results', 1716.0]\n",
      "Optimization complete. Results saved to: ../data/output/Pulp/output_g14.txt2000.txt\n",
      "Elapsed time: 118.06 seconds\n"
     ]
    }
   ],
   "source": [
    "import time\n",
    "from pulp import LpProblem, LpMaximize, LpVariable, lpSum, value\n",
    "import numpy as np\n",
    "import pandas as pd\n",
    "\n",
    "time_start=time.time()\n",
    "\n",
    "# Load data\n",
    "data_dir = '../data/raw/'\n",
    "filename = 'g14.txt2000.txt'\n",
    "import_dir = data_dir + filename\n",
    "\n",
    "#nedges = 1500\n",
    "#fullfile = np.loadtxt(import_dir, usecols=(0, 1), dtype=int)\n",
    "#data_import = fullfile[:int(nedges)+1,:]\n",
    "data_import = np.loadtxt(import_dir, usecols=(0, 1), dtype=int)\n",
    "npoints = data_import[0, 0] + 1\n",
    "nedges = data_import[0, 1]\n",
    "data = np.delete(data_import, 0, axis=0)\n",
    "w = np.loadtxt(import_dir, usecols=(2), skiprows=1, dtype=int)\n",
    "\n",
    "# Create the problem instance\n",
    "problem = LpProblem(\"Binary_Optimization_Problem\", LpMaximize)\n",
    "\n",
    "# Define binary decision variables\n",
    "x = LpVariable.dicts(\"x\", range(npoints), cat='Binary')\n",
    "e = LpVariable.dicts(\"e\", range(nedges), cat='Binary')\n",
    "\n",
    "# Objective function: maximize the sum of weights of selected edges\n",
    "problem += lpSum(e[i] * w[i] for i in range(nedges))\n",
    "\n",
    "# Constraints\n",
    "for i, (col1, col2) in enumerate(data):\n",
    "    # Adjust for 1-based indexing if necessary\n",
    "    if col1 < 0 or col1 >= npoints or col2 < 0 or col2 >= npoints:\n",
    "        print(f\"Invalid indices: col1={col1}, col2={col2} for npoints={npoints}\")\n",
    "        continue  # Skip this iteration if indices are invalid\n",
    "    problem += x[col1] + x[col2] >= e[i]  # xi + xj >= eij\n",
    "    problem += x[col1] + x[col2] + e[i] <= 2  # 2 - (xi + xj) >= eij\n",
    "\n",
    "# Solve the problem\n",
    "problem.solve()\n",
    "\n",
    "objective_value = [\"Results\", value(problem.objective)]\n",
    "print(\"Objective Function Value:\", objective_value)\n",
    "\n",
    "# Prepare results for output\n",
    "results = {\n",
    "    \"Variable\": [v.name for v in problem.variables()],\n",
    "    \"Value\": [v.varValue for v in problem.variables()],\n",
    "}\n",
    "\n",
    "# Create a DataFrame\n",
    "results_df = pd.DataFrame(np.vstack((pd.DataFrame(results), objective_value)))\n",
    "\n",
    "# Output results to CSV\n",
    "output_name = f'../data/output/Pulp/output_{filename}'\n",
    "results_df.to_csv(output_name, index=False)\n",
    "\n",
    "# End the timer\n",
    "end_time = time.time()\n",
    "\n",
    "# Calculate and print the elapsed time\n",
    "elapsed_time = end_time - time_start\n",
    "\n",
    "print(f\"Optimization complete. Results saved to: {output_name}\")\n",
    "print(f\"Elapsed time: {elapsed_time:.2f} seconds\")"
   ]
  },
  {
   "cell_type": "code",
   "execution_count": 6,
   "id": "13ff13c4-eaa8-417a-8d0e-b29d84dbfa38",
   "metadata": {},
   "outputs": [
    {
     "name": "stdout",
     "output_type": "stream",
     "text": [
      "Using solver: <pulp.apis.coin_api.PULP_CBC_CMD object at 0x0000018D28543BE0>\n"
     ]
    }
   ],
   "source": [
    "print(f\"Using solver: {problem.solver}\")"
   ]
  }
 ],
 "metadata": {
  "kernelspec": {
   "display_name": "Python 3 (ipykernel)",
   "language": "python",
   "name": "python3"
  },
  "language_info": {
   "codemirror_mode": {
    "name": "ipython",
    "version": 3
   },
   "file_extension": ".py",
   "mimetype": "text/x-python",
   "name": "python",
   "nbconvert_exporter": "python",
   "pygments_lexer": "ipython3",
   "version": "3.10.15"
  }
 },
 "nbformat": 4,
 "nbformat_minor": 5
}
